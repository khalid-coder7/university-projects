{
 "cells": [
  {
   "cell_type": "markdown",
   "metadata": {},
   "source": [
    "## Model Evaluation Using Test Set"
   ]
  },
  {
   "cell_type": "code",
   "execution_count": 1,
   "metadata": {},
   "outputs": [
    {
     "name": "stdout",
     "output_type": "stream",
     "text": [
      "    __            ___   ____ \n",
      "   / /__  _____  <  /  / __ \\\n",
      "  / //_/ /____/  / /  / / / /\n",
      " / ,<   /____/  / /  / /_/ / \n",
      "/_/|_|         /_/   \\____/  \n",
      "                             \n",
      "\n",
      "Test error: 0.240\n",
      "\n",
      "Confusion Matrix:\n",
      "[[711 275]\n",
      " [206 815]]\n",
      "\n",
      "Classification Report on Test Set:\n",
      "              precision    recall  f1-score   support\n",
      "\n",
      "           h       0.78      0.72      0.75       986\n",
      "           g       0.75      0.80      0.77      1021\n",
      "\n",
      "    accuracy                           0.76      2007\n",
      "   macro avg       0.76      0.76      0.76      2007\n",
      "weighted avg       0.76      0.76      0.76      2007\n",
      "\n"
     ]
    }
   ],
   "source": [
    "from sklearn.neighbors import KNeighborsClassifier\n",
    "from sklearn.metrics import accuracy_score, classification_report, confusion_matrix\n",
    "import numpy as np\n",
    "from art import text2art\n",
    "import pandas as pd\n",
    "\n",
    "def load_data(file_path):\n",
    "    df = pd.read_csv(file_path, header=None)\n",
    "    X = df.iloc[:, :-1].values\n",
    "    y = df.iloc[:, -1].values\n",
    "    return X, y\n",
    "\n",
    "\n",
    "X_train, y_train = load_data(\"train_set.txt\")\n",
    "X_val, y_val = load_data(\"validation_set.txt\")\n",
    "X_test, y_test = load_data(\"test_set.txt\")\n",
    "\n",
    "y_train = np.where(y_train == \"g\", 1, 0)\n",
    "y_val = np.where(y_val == \"g\", 1, 0)\n",
    "y_test = np.where(y_test == \"g\", 1, 0)\n",
    "\n",
    "best_k = 10\n",
    "\n",
    "knn = KNeighborsClassifier(n_neighbors=best_k)\n",
    "\n",
    "knn.fit(X_train, y_train)\n",
    "\n",
    "print(text2art(f\"k={best_k}\", font=\"slant\"))\n",
    "\n",
    "# Calculate accuracy on the training set\n",
    "test_predictions = knn.predict(X_test)\n",
    "test_accuracy = accuracy_score(y_test, test_predictions)\n",
    "print(f\"Test error: {1 - test_accuracy:.3f}\\n\")\n",
    "\n",
    "# Calculate confusion matrix\n",
    "cm = confusion_matrix(y_test, test_predictions)\n",
    "print(\"Confusion Matrix:\")\n",
    "print(cm)\n",
    "\n",
    "# Classification report\n",
    "print(\"\\nClassification Report on Test Set:\")\n",
    "print(classification_report(y_test, test_predictions, target_names=[\"h\", \"g\"]))"
   ]
  }
 ],
 "metadata": {
  "kernelspec": {
   "display_name": "Python 3",
   "language": "python",
   "name": "python3"
  },
  "language_info": {
   "codemirror_mode": {
    "name": "ipython",
    "version": 3
   },
   "file_extension": ".py",
   "mimetype": "text/x-python",
   "name": "python",
   "nbconvert_exporter": "python",
   "pygments_lexer": "ipython3",
   "version": "3.11.3"
  }
 },
 "nbformat": 4,
 "nbformat_minor": 2
}
