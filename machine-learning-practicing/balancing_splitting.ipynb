{
 "cells": [
  {
   "cell_type": "markdown",
   "metadata": {},
   "source": [
    "## Balancing g and h Classes"
   ]
  },
  {
   "cell_type": "code",
   "execution_count": 1,
   "metadata": {},
   "outputs": [
    {
     "name": "stdout",
     "output_type": "stream",
     "text": [
      "Original 'g' records: 12332\n",
      "Original 'h' records: 6688\n",
      "Balanced dataset saved to balanced_dataset.txt\n",
      "Original 'g' records: 6688\n",
      "Original 'h' records: 6688\n"
     ]
    }
   ],
   "source": [
    "import random\n",
    "\n",
    "file_path = \"magic.txt\"\n",
    "with open(file_path, \"r\") as f:\n",
    "    lines = f.readlines()\n",
    "\n",
    "g_records = [line for line in lines if line.strip().endswith(\",g\")]\n",
    "h_records = [line for line in lines if line.strip().endswith(\",h\")]\n",
    "\n",
    "g_count = len(g_records)\n",
    "h_count = len(h_records)\n",
    "\n",
    "print(f\"Original 'g' records: {g_count}\")\n",
    "print(f\"Original 'h' records: {h_count}\")\n",
    "\n",
    "balanced_g_records = random.sample(g_records, h_count)\n",
    "\n",
    "balanced_dataset = balanced_g_records + h_records\n",
    "\n",
    "random.shuffle(balanced_dataset)\n",
    "\n",
    "output_file = \"balanced_dataset.txt\"\n",
    "with open(output_file, \"w\") as f:\n",
    "    f.writelines(balanced_dataset)\n",
    "\n",
    "print(f\"Balanced dataset saved to {output_file}\")\n",
    "\n",
    "with open(output_file, \"r\") as f:\n",
    "    lines = f.readlines()\n",
    "\n",
    "g_records = [line for line in lines if line.strip().endswith(\",g\")]\n",
    "h_records = [line for line in lines if line.strip().endswith(\",h\")]\n",
    "\n",
    "g_count = len(g_records)\n",
    "h_count = len(h_records)\n",
    "\n",
    "print(f\"Original 'g' records: {g_count}\")\n",
    "print(f\"Original 'h' records: {h_count}\")"
   ]
  },
  {
   "cell_type": "markdown",
   "metadata": {},
   "source": [
    "## Splitting Dataset"
   ]
  },
  {
   "cell_type": "code",
   "execution_count": 2,
   "metadata": {},
   "outputs": [
    {
     "name": "stdout",
     "output_type": "stream",
     "text": [
      "Dataset split completed:\n",
      "Training set: 9363 records\n",
      "Validation set: 2006 records\n",
      "Test set: 2007 records\n"
     ]
    }
   ],
   "source": [
    "file_path = \"balanced_dataset.txt\"\n",
    "with open(file_path, \"r\") as f:\n",
    "    lines = f.readlines()\n",
    "\n",
    "random.shuffle(lines)\n",
    "\n",
    "total_records = len(lines)\n",
    "train_size = int(0.7 * total_records)\n",
    "val_size = int(0.15 * total_records)\n",
    "\n",
    "train_set = lines[:train_size]\n",
    "val_set = lines[train_size : train_size + val_size]\n",
    "test_set = lines[train_size + val_size :]\n",
    "\n",
    "with open(\"train_set.txt\", \"w\") as f:\n",
    "    f.writelines(train_set)\n",
    "\n",
    "with open(\"validation_set.txt\", \"w\") as f:\n",
    "    f.writelines(val_set)\n",
    "\n",
    "with open(\"test_set.txt\", \"w\") as f:\n",
    "    f.writelines(test_set)\n",
    "\n",
    "print(\"Dataset split completed:\")\n",
    "print(f\"Training set: {len(train_set)} records\")\n",
    "print(f\"Validation set: {len(val_set)} records\")\n",
    "print(f\"Test set: {len(test_set)} records\")"
   ]
  }
 ],
 "metadata": {
  "kernelspec": {
   "display_name": "Python 3",
   "language": "python",
   "name": "python3"
  },
  "language_info": {
   "codemirror_mode": {
    "name": "ipython",
    "version": 3
   },
   "file_extension": ".py",
   "mimetype": "text/x-python",
   "name": "python",
   "nbconvert_exporter": "python",
   "pygments_lexer": "ipython3",
   "version": "3.11.3"
  }
 },
 "nbformat": 4,
 "nbformat_minor": 2
}
